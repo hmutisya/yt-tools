{
  "cells": [
    {
      "cell_type": "markdown",
      "metadata": {
        "id": "ecBUcaEKzCU1"
      },
      "source": [
        "Set up repo"
      ]
    },
    {
      "cell_type": "code",
      "source": [
        "!git clone https://github.com/hmutisya/yt-tools\n",
        "!cp yt-tools/split_segments.py .\n",
        "!cp yt-tools/youtube_download.py ."
      ],
      "metadata": {
        "id": "DO7-FkFeNgG9"
      },
      "execution_count": null,
      "outputs": []
    },
    {
      "cell_type": "code",
      "execution_count": null,
      "metadata": {
        "id": "o3QGp9JneVP4"
      },
      "outputs": [],
      "source": [
        "!pip install -q -r yt-tools/requirements.txt\n",
        "\n",
        "!sudo apt-get install libportaudio2"
      ]
    },
    {
      "cell_type": "code",
      "source": [
        "# @title Credentials\n",
        "\n",
        "s3_key = '' # @param {type:\"string\"}\n",
        "s3_secret = '' # @param {type:\"string\"}\n",
        "youtube_apikey = '' # @param {type:\"string\"}"
      ],
      "metadata": {
        "id": "UxpdvOjOHeKu"
      },
      "execution_count": 3,
      "outputs": []
    },
    {
      "cell_type": "code",
      "source": [
        "# @title Youtube playlist info\n",
        "s3_root_path = 'youtube-dataset/v0' # @param {type:\"string\"}\n",
        "s3_output_folder=\"luo/ramogi_tv\" # @param {type:\"string\"}\n",
        "playlist_url = 'https://www.youtube.com/playlist?list=UULFmKXJ4C59JjVVJ-axXfpJcg' # @param {type:\"string\"}"
      ],
      "metadata": {
        "id": "6GO0Env_Lc0N"
      },
      "execution_count": 4,
      "outputs": []
    },
    {
      "cell_type": "markdown",
      "metadata": {
        "id": "sz3mSnRu9j-B"
      },
      "source": [
        "Set up S3 session"
      ]
    },
    {
      "cell_type": "code",
      "execution_count": null,
      "metadata": {
        "id": "QmCISupc9hiW"
      },
      "outputs": [],
      "source": [
        "import datasets\n",
        "\n",
        "s3 = datasets.filesystems.S3FileSystem(key=s3_key, secret=s3_secret)"
      ]
    },
    {
      "cell_type": "markdown",
      "metadata": {
        "id": "vIK20yiOiyki"
      },
      "source": [
        "Get playlist metadata"
      ]
    },
    {
      "cell_type": "code",
      "execution_count": 6,
      "metadata": {
        "id": "Ga-H9k4p69GU"
      },
      "outputs": [],
      "source": [
        "from youtube_download import get_playlist_metadata,get_playlist_items, download_playlist_items,set_global_variables\n",
        "set_global_variables(s3,s3_root_path,s3_output_folder)\n",
        "info = get_playlist_metadata(playlist_url)\n",
        "vidItems = get_playlist_items(info['id'], youtube_apikey)"
      ]
    },
    {
      "cell_type": "markdown",
      "metadata": {
        "id": "Dl9-joh0i03U"
      },
      "source": [
        "Download playlist"
      ]
    },
    {
      "cell_type": "code",
      "execution_count": null,
      "metadata": {
        "id": "VbMwI8k3pMMa"
      },
      "outputs": [],
      "source": [
        "download_playlist_items(info, vidItems, s3, s3_root_path)"
      ]
    }
  ],
  "metadata": {
    "colab": {
      "provenance": []
    },
    "gpuClass": "standard",
    "kernelspec": {
      "display_name": "Python 3",
      "name": "python3"
    },
    "language_info": {
      "name": "python"
    }
  },
  "nbformat": 4,
  "nbformat_minor": 0
}